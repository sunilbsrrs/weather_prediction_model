{
  "nbformat": 4,
  "nbformat_minor": 0,
  "metadata": {
    "colab": {
      "provenance": []
    },
    "kernelspec": {
      "name": "python3",
      "display_name": "Python 3"
    },
    "language_info": {
      "name": "python"
    }
  },
  "cells": [
    {
      "cell_type": "code",
      "execution_count": 20,
      "metadata": {
        "colab": {
          "base_uri": "https://localhost:8080/"
        },
        "id": "GTdK5JgBHEYa",
        "outputId": "ddc4efa1-bd42-4c6d-b8ae-09f073b9acb1"
      },
      "outputs": [
        {
          "output_type": "stream",
          "name": "stdout",
          "text": [
            "Hello Sunil..❤!!\n"
          ]
        }
      ],
      "source": [
        "print(\"Hello Sunil..❤!!\")"
      ]
    },
    {
      "cell_type": "markdown",
      "source": [
        "**Sum of 2 Number**"
      ],
      "metadata": {
        "id": "hx1viJ7_HsNi"
      }
    },
    {
      "cell_type": "code",
      "source": [
        "a = 20\n",
        "b = 25\n",
        "c = a+b\n",
        "print (c)"
      ],
      "metadata": {
        "colab": {
          "base_uri": "https://localhost:8080/"
        },
        "id": "-3t-yHLPHrzn",
        "outputId": "e0ec7106-157c-4664-ec3d-a351bd4486c8"
      },
      "execution_count": null,
      "outputs": [
        {
          "output_type": "stream",
          "name": "stdout",
          "text": [
            "45\n"
          ]
        }
      ]
    },
    {
      "cell_type": "markdown",
      "source": [
        "**Pandas Library**"
      ],
      "metadata": {
        "id": "kV5eB2WRbGTp"
      }
    },
    {
      "cell_type": "code",
      "source": [
        "import pandas as pd\n",
        "list = [20,30,40,50,60]\n",
        "print (list)\n",
        "res = pd.Series(list)\n",
        "\n",
        "print(\"Series= \\n\",res)"
      ],
      "metadata": {
        "colab": {
          "base_uri": "https://localhost:8080/"
        },
        "id": "WkPLjmwCbPsB",
        "outputId": "6bc3bff2-1aab-481a-bb35-1b5a7d21045a"
      },
      "execution_count": 9,
      "outputs": [
        {
          "output_type": "stream",
          "name": "stdout",
          "text": [
            "[20, 30, 40, 50, 60]\n",
            "Series= \n",
            " 0    20\n",
            "1    30\n",
            "2    40\n",
            "3    50\n",
            "4    60\n",
            "dtype: int64\n"
          ]
        }
      ]
    },
    {
      "cell_type": "markdown",
      "source": [
        "**Using** **Numpy**"
      ],
      "metadata": {
        "id": "fxFULg2AdbMA"
      }
    },
    {
      "cell_type": "code",
      "source": [
        "import numpy as np\n",
        "\n",
        "arr = np.array((1,3,5))\n",
        "print(\"Array - \",arr)\n",
        "\n",
        "print(type(arr))"
      ],
      "metadata": {
        "colab": {
          "base_uri": "https://localhost:8080/"
        },
        "id": "CQakQDKRdhXh",
        "outputId": "c6732e92-f086-4713-e5cf-4da11f96eb6c"
      },
      "execution_count": 12,
      "outputs": [
        {
          "output_type": "stream",
          "name": "stdout",
          "text": [
            "Array -  [1 3 5]\n",
            "<class 'numpy.ndarray'>\n"
          ]
        }
      ]
    },
    {
      "cell_type": "markdown",
      "source": [
        "**Using Matplot**"
      ],
      "metadata": {
        "id": "qIdVy2ncfVPV"
      }
    },
    {
      "cell_type": "code",
      "source": [
        "import matplotlib.pyplot as plt\n",
        "import numpy as np\n",
        "\n",
        "xpts = np.array([0,4])\n",
        "ypts = np.array([0,100])\n",
        "\n",
        "plt.plot(xpts, ypts)\n",
        "plt.show()"
      ],
      "metadata": {
        "colab": {
          "base_uri": "https://localhost:8080/",
          "height": 430
        },
        "id": "f2McutfrfdxN",
        "outputId": "ec3c1ac8-c061-49cb-afe8-e6b5dd4b418f"
      },
      "execution_count": 14,
      "outputs": [
        {
          "output_type": "display_data",
          "data": {
            "text/plain": [
              "<Figure size 640x480 with 1 Axes>"
            ],
            "image/png": "[encoded data removed]"
          },
          "metadata": {}
        }
      ]
    },
    {
      "cell_type": "markdown",
      "source": [
        "**Find and Edit**"
      ],
      "metadata": {
        "id": "o0-YuzZxjg8D"
      }
    },
    {
      "cell_type": "code",
      "source": [
        "tuple = (\"Anand\",\"Ritu\", \"Tarun\", \"Rishav\", \"Atul\")\n",
        "print(tuple)\n",
        "\n",
        "tuple12 = (1,2, 4,5,6, 6)\n",
        "print(tuple12)"
      ],
      "metadata": {
        "colab": {
          "base_uri": "https://localhost:8080/"
        },
        "id": "4FRDetlnjkhT",
        "outputId": "0ec4a83d-ca0a-4e22-b974-c5d4845d0760"
      },
      "execution_count": 18,
      "outputs": [
        {
          "output_type": "stream",
          "name": "stdout",
          "text": [
            "('Anand', 'Ritu', 'Tarun', 'Rishav', 'Atul')\n",
            "(1, 2, 4, 5, 6, 6)\n"
          ]
        }
      ]
    }
  ]
}