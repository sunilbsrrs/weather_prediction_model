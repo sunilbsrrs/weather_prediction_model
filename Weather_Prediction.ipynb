{
  "nbformat": 4,
  "nbformat_minor": 0,
  "metadata": {
    "colab": {
      "provenance": [],
      "mount_file_id": "1v5g4opjpg74Muck4f-XQCKGR4Mkva9dx",
      "authorship_tag": "ABX9TyPGGPkYUDUlj2v5Ozk4JDw3",
      "include_colab_link": true
    },
    "kernelspec": {
      "name": "python3",
      "display_name": "Python 3"
    },
    "language_info": {
      "name": "python"
    }
  },
  "cells": [
    {
      "cell_type": "markdown",
      "metadata": {
        "id": "view-in-github",
        "colab_type": "text"
      },
      "source": [
        "<a href=\"https://colab.research.google.com/github/sunilbsrrs/weather_prediction_model/blob/main/Weather_Prediction.ipynb\" target=\"_parent\"><img src=\"https://colab.research.google.com/assets/colab-badge.svg\" alt=\"Open In Colab\"/></a>"
      ]
    },
    {
      "cell_type": "markdown",
      "source": [
        "**Section 1 : Import Libraries**"
      ],
      "metadata": {
        "id": "ox9vVJKPeMJr"
      }
    },
    {
      "cell_type": "code",
      "execution_count": 12,
      "metadata": {
        "id": "o9j5WTY7dv6A"
      },
      "outputs": [],
      "source": [
        "import requests # This library help us to fetch data from APIs\n",
        "import pandas as pd #for handeling and analysing data\n",
        "import numpy as np #for numerical operation\n",
        "from sklearn.model_selection import train_test_split #to split data into training and testing set\n",
        "from sklearn.preprocessing import LabelEncoder #to convert categorical data into numerical values.\n",
        "from sklearn.ensemble import RandomForestClassifier, RandomForestRegressor #model foe clssification and regression task\n",
        "from sklearn.metrics import mean_squared_error #to measure the acurracy of our prediction\n",
        "from datetime import datetime, timedelta #to handle date and time\n",
        "import pytz"
      ]
    },
    {
      "cell_type": "code",
      "source": [
        "API_KEY = '24601f93ccfb1efa37c0ae50ae8949f4' # API key\n",
        "BASE_URL = 'https://api.openweathermap.org/data/2.5/' #base url for making API requests"
      ],
      "metadata": {
        "id": "fYRcQBJWixAL"
      },
      "execution_count": 13,
      "outputs": []
    },
    {
      "cell_type": "markdown",
      "source": [
        "**1. Fetch Current Weather Data**"
      ],
      "metadata": {
        "id": "hAGrVaBYkAjF"
      }
    },
    {
      "cell_type": "code",
      "source": [
        "def get_current_weather(city):\n",
        "  url = f\"{BASE_URL}weather?q={city}&appid={API_KEY}&unitsmetric\" #construct the API request URL\n",
        "  response = requests.get(url) #send the get request to API\n",
        "  data = response.json()\n",
        "  return {\n",
        "      'city': data['name'],\n",
        "      'current_temp': round(data['main']['temp']),\n",
        "      'feels_like': round(data['main']['feels_like']),\n",
        "      'temp_min': round(data['main']['temp_min']),\n",
        "      'temp_max': round(data['main']['temp_max']),\n",
        "      'humidity': round(data['main']['humidity']),\n",
        "      'description': data['weather'][0]['description'],\n",
        "      'country' : data['sys']['country'],\n",
        "      'wind_gust_dir': data['wind']['deg'],\n",
        "      'pressure': data['main']['pressure'],\n",
        "      'Wind_Gust_Speed': data['wind']['speed']\n",
        "  }"
      ],
      "metadata": {
        "id": "Gn65nRkIkACW"
      },
      "execution_count": 34,
      "outputs": []
    },
    {
      "cell_type": "markdown",
      "source": [
        "**2. Read Historical Data**"
      ],
      "metadata": {
        "id": "HDoBAiwuruqk"
      }
    },
    {
      "cell_type": "code",
      "source": [
        "def read_historical_data(filename):\n",
        "  df = pd.read_csv(filename) #load csv files into dataframe\n",
        "  df = df.dropna() #remove rows with missing values\n",
        "  df = df.drop_duplicates()\n",
        "  return df"
      ],
      "metadata": {
        "id": "ROggRORAr04V"
      },
      "execution_count": 15,
      "outputs": []
    },
    {
      "cell_type": "markdown",
      "source": [
        "**3. Prepare data for training**"
      ],
      "metadata": {
        "id": "B_qNH6c1u4KX"
      }
    },
    {
      "cell_type": "code",
      "source": [
        "def prepare_data(data):\n",
        "  le = LabelEncoder() #create labelEncoder instance\n",
        "  data['WindGustDir'] = le.fit_transform(data['WindGustDir'])\n",
        "  data['RainTomorrow'] = le.fit_transform(data['RainTomorrow'])\n",
        "\n",
        "  #define the feature variable and target variables\n",
        "  X = data[['MinTemp', 'MaxTemp', 'WindGustDir', 'WindGustSpeed', 'Humidity','Pressure', 'Temp']] #feature Variable\n",
        "  y = data['RainTomorrow'] #target variable\n",
        "\n",
        "  return X, y, le #return feature variable, target variable and the label encoder"
      ],
      "metadata": {
        "id": "q0OqG1kFvAf3"
      },
      "execution_count": 38,
      "outputs": []
    },
    {
      "cell_type": "markdown",
      "source": [
        "**4. Train Rain Prediction Model**"
      ],
      "metadata": {
        "id": "igbNUsK0yxDq"
      }
    },
    {
      "cell_type": "code",
      "source": [
        "def train_rain_model(X,y):\n",
        "  X_train, X_test, y_train, y_test = train_test_split(X, y, test_size=0.2, random_state=42)\n",
        "  model = RandomForestClassifier(n_estimators=100, random_state=42)\n",
        "  model.fit(X_train, y_train) #train the model\n",
        "\n",
        "  y_pred = model.predict(X_test) #to make prediction on test Set\n",
        "\n",
        "  print(\"Mean Squared Error for Rain Model\")\n",
        "\n",
        "  print(mean_squared_error(y_test, y_pred))\n",
        "\n",
        "  return model"
      ],
      "metadata": {
        "id": "6fVFQGdIzB8L"
      },
      "execution_count": 30,
      "outputs": []
    },
    {
      "cell_type": "markdown",
      "source": [
        "**5. Prepare regression data**"
      ],
      "metadata": {
        "id": "XlQooLZn3KZu"
      }
    },
    {
      "cell_type": "code",
      "source": [
        "def prepare_regression_data(data, feature):\n",
        "  X, y = [], [] #initialize list for feature and target values\n",
        "\n",
        "  for i in range(len(data) -1):\n",
        "    X.append(data[feature].iloc[i])\n",
        "\n",
        "    y.append(data[feature].iloc[i+1])\n",
        "\n",
        "  X = np.array(X).reshape(-1, 1)\n",
        "  y = np.array(y)\n",
        "  return X,y"
      ],
      "metadata": {
        "id": "3tybU-kj3PfH"
      },
      "execution_count": 31,
      "outputs": []
    },
    {
      "cell_type": "markdown",
      "source": [
        "**Train Regression Model**"
      ],
      "metadata": {
        "id": "aYWqxx0S6EX5"
      }
    },
    {
      "cell_type": "code",
      "source": [
        "def train_regression_model(X, y):\n",
        "  model = RandomForestRegressor(n_estimators=100, random_state=42)\n",
        "  model.fit(X,y)\n",
        "  return model"
      ],
      "metadata": {
        "id": "q-YvX-3T6KWW"
      },
      "execution_count": 32,
      "outputs": []
    },
    {
      "cell_type": "markdown",
      "source": [
        "**Predict Future**"
      ],
      "metadata": {
        "id": "rUyMx-_z7Nfk"
      }
    },
    {
      "cell_type": "code",
      "source": [
        "def predict_future(model, current_value):\n",
        "  predictions = [current_value]\n",
        "\n",
        "  for i in range(5):\n",
        "    next_value = model.predict(np.array([[predictions[-1]]]))\n",
        "\n",
        "    predictions.append(next_value[0])\n",
        "\n",
        "  return predictions[1:]"
      ],
      "metadata": {
        "id": "PZqMGLSY7RQt"
      },
      "execution_count": 20,
      "outputs": []
    },
    {
      "cell_type": "code",
      "source": [
        "# Function to convert Kelvin to Celsius\n",
        "def kelvin_to_celsius(kelvin):\n",
        "        return kelvin - 273.15"
      ],
      "metadata": {
        "id": "NHyHpULA0Ljb"
      },
      "execution_count": 57,
      "outputs": []
    },
    {
      "cell_type": "markdown",
      "source": [
        "**Weather Analysis Function**"
      ],
      "metadata": {
        "id": "3DwdO5OO8Wee"
      }
    },
    {
      "cell_type": "code",
      "source": [
        "def weather_view():\n",
        "  city = input('Enter any city name: ')\n",
        "  current_weather = get_current_weather(city)\n",
        "\n",
        "  #load historical data\n",
        "  historical_data = read_historical_data('/content/weather.csv')\n",
        "\n",
        "  #prepare and train the rain prediction model\n",
        "\n",
        "  X, y, le = prepare_data(historical_data)\n",
        "\n",
        "  rain_model = train_rain_model(X, y)\n",
        "\n",
        "  #map wind direction to compass point\n",
        "  wind_deg = current_weather['wind_gust_dir'] % 360\n",
        "  compass_points = [\n",
        "      (\"Ν\",0,11.25), (\"NNE\",11.25,33.75), (\"NE\",33.75,56.25),\n",
        "      (\"ENE\",56.25,78.75), (\"E\",78.75,101.25), (\"ESE\",101.25,123.75),\n",
        "      (\"SE\",123.75,146.25), (\"SSE\",146.25,168.75), (\"S\",168.75,191.25),\n",
        "      (\"SSW\",191.25,213.75), (\"SW\",213.75,236.25), (\"WSW\",236.25,258.75),\n",
        "      (\"W\",258.75,281.25), (\"WNW\",281.25,303.75), (\"NW\",303.75,326.25),\n",
        "      (\"NNW\",326.25,360.0)\n",
        "      ]\n",
        "\n",
        "  compass_direction = next(point for point, start, end in compass_points if start <= wind_deg < end)\n",
        "\n",
        "  compass_direction_encoded = le.transform([compass_direction])[0] if compass_direction in le.classes_ else -1\n",
        "\n",
        "\n",
        "  current_data = {\n",
        "      'MinTemp': current_weather['temp_min'],\n",
        "      'MaxTemp': current_weather['temp_max'],\n",
        "      'WindGustDir': compass_direction_encoded,\n",
        "      'WindGustSpeed': current_weather['Wind_Gust_Speed'],\n",
        "      'Humidity': current_weather['humidity'],\n",
        "      'Pressure': current_weather['pressure'],\n",
        "      'Temp' : current_weather['current_temp']\n",
        "\n",
        "  }\n",
        "\n",
        "  current_df = pd.DataFrame([current_data])\n",
        "\n",
        "  #rain prediction\n",
        "\n",
        "  rain_prediction = rain_model.predict(current_df)[0]\n",
        "\n",
        "  #prepare regression model for temprature and humidity\n",
        "\n",
        "  X_temp, y_temp = prepare_regression_data(historical_data, 'Temp')\n",
        "\n",
        "  X_hum, y_hum = prepare_regression_data(historical_data, 'Humidity')\n",
        "\n",
        "  temp_model = train_regression_model(X_temp, y_temp)\n",
        "\n",
        "  hum_model = train_regression_model(X_hum, y_hum)\n",
        "\n",
        "  #predict future temperature and humidity\n",
        "\n",
        "  future_temp = predict_future(temp_model, current_weather['temp_min'])\n",
        "\n",
        "  future_humidity = predict_future(hum_model, current_weather['humidity'])\n",
        "\n",
        "  #prepare time for future prediction\n",
        "\n",
        "  timezone = pytz.timezone('Asia/Kolkata')  # Correct timezone\n",
        "  now = datetime.now(timezone)\n",
        "  next_hour = now + timedelta(hours=1)\n",
        "  next_hour = next_hour.replace(minute=0, second=0, microsecond=0)\n",
        "\n",
        "# Generate future times for the next 5 consecutive hours\n",
        "  future_times = [(next_hour + timedelta(hours=i)).strftime(\"%H:00\") for i in range(5)]\n",
        "\n",
        "\n",
        "  #Display result\n",
        "\n",
        "  print(f\"City: {city}, {current_weather['country']}\")\n",
        "  print(f\"Current Temperature: {kelvin_to_celsius(current_weather['current_temp']):.2f} °C\")\n",
        "  #print(f\"Feels Like: {current_weather['feels_like']}\")\n",
        "  print(f\"Minimum Temperature: {kelvin_to_celsius(current_weather['temp_min']):.2f} °C\")\n",
        "  print(f\"Maximum Temperature: {kelvin_to_celsius(current_weather['temp_max']):.2f} °C\")\n",
        "  print(f\"Humidity: {current_weather['humidity']}%\")\n",
        "  print(f\"Weather Description: {current_weather['description']}\")\n",
        "  print(f\"Rain Prediction: {'Yes' if rain_prediction else 'No'}\")\n",
        "\n",
        "  print(\"\\nFuture Temperature Predictions:\")\n",
        "\n",
        "  for time, temp in zip(future_times, future_temp):\n",
        "    print(f\"{time}: {round(temp, 1)}°C\")\n",
        "\n",
        "\n",
        "  print(\"\\nFuture Humidity Predictions:\")\n",
        "\n",
        "  for time, humidity in zip(future_times, future_humidity):\n",
        "    print(f\"{time}: {round(humidity, 1)}%\")\n",
        "\n",
        "weather_view()"
      ],
      "metadata": {
        "colab": {
          "base_uri": "https://localhost:8080/"
        },
        "id": "Jun7MQY18bhB",
        "outputId": "23c5abb3-c3a1-47a2-eef4-6534afe838d5"
      },
      "execution_count": 69,
      "outputs": [
        {
          "output_type": "stream",
          "name": "stdout",
          "text": [
            "Enter any city name: Darbhanga\n",
            "Mean Squared Error for Rain Model\n",
            "0.1506849315068493\n",
            "City: Darbhanga, IN\n",
            "Current Temperature: 9.85 °C\n",
            "Minimum Temperature: 9.85 °C\n",
            "Maximum Temperature: 9.85 °C\n",
            "Humidity: 43%\n",
            "Weather Description: clear sky\n",
            "Rain Prediction: No\n",
            "\n",
            "Future Temperature Predictions:\n",
            "04:00: 33.1°C\n",
            "05:00: 25.1°C\n",
            "06:00: 20.1°C\n",
            "07:00: 16.6°C\n",
            "08:00: 14.4°C\n",
            "\n",
            "Future Humidity Predictions:\n",
            "04:00: 46.8%\n",
            "05:00: 47.2%\n",
            "06:00: 47.2%\n",
            "07:00: 47.2%\n",
            "08:00: 47.2%\n"
          ]
        }
      ]
    }
  ]
}